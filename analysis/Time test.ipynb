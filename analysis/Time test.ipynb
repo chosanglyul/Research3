{
 "cells": [
  {
   "cell_type": "code",
   "execution_count": 1,
   "metadata": {},
   "outputs": [],
   "source": [
    "import numpy as np\n",
    "from numpy.random import randn"
   ]
  },
  {
   "cell_type": "code",
   "execution_count": 2,
   "metadata": {},
   "outputs": [],
   "source": [
    "n_y = 10\n",
    "n_s = 12\n",
    "hid = 64\n",
    "batch = 256\n",
    "h = randn(batch, hid)\n",
    "W = randn(batch, hid, n_s)\n",
    "X = randn(batch, n_s, n_y, hid)"
   ]
  },
  {
   "cell_type": "code",
   "execution_count": 3,
   "metadata": {},
   "outputs": [
    {
     "name": "stdout",
     "output_type": "stream",
     "text": [
      "  Complete contraction:  bsyh,bhs,bh->by\n",
      "         Naive scaling:  4\n",
      "     Optimized scaling:  4\n",
      "      Naive FLOP count:  5.898e+06\n",
      "  Optimized FLOP count:  4.129e+06\n",
      "   Theoretical speedup:  1.429\n",
      "  Largest intermediate:  1.966e+05 elements\n",
      "--------------------------------------------------------------------------\n",
      "scaling                  current                                remaining\n",
      "--------------------------------------------------------------------------\n",
      "   3                 bh,bhs->shb                             bsyh,shb->by\n",
      "   4                shb,bsyh->by                                   by->by\n"
     ]
    }
   ],
   "source": [
    "print(np.einsum_path('bsyh,bhs,bh->by', X, W, h, optimize='optimal')[1])"
   ]
  },
  {
   "cell_type": "code",
   "execution_count": 25,
   "metadata": {},
   "outputs": [],
   "source": [
    "def opt(X, W, h):\n",
    "    tmp = np.einsum('bh,bhs->bhs', h, W)\n",
    "    return np.einsum('bhs,bsyh->by', tmp, X)"
   ]
  },
  {
   "cell_type": "code",
   "execution_count": 27,
   "metadata": {},
   "outputs": [
    {
     "name": "stdout",
     "output_type": "stream",
     "text": [
      "17.9 ms ± 861 µs per loop (mean ± std. dev. of 16 runs, 100 loops each)\n",
      "17.2 ms ± 889 µs per loop (mean ± std. dev. of 16 runs, 100 loops each)\n"
     ]
    }
   ],
   "source": [
    "%timeit -r 16 -n 100 np.einsum('bsyh,bhs,bh->by', X, W, h, optimize='optimal')\n",
    "%timeit -r 16 -n 100 opt(X, W, h)"
   ]
  },
  {
   "cell_type": "code",
   "execution_count": 28,
   "metadata": {},
   "outputs": [
    {
     "data": {
      "text/plain": [
       "(256, 10)"
      ]
     },
     "execution_count": 28,
     "metadata": {},
     "output_type": "execute_result"
    }
   ],
   "source": [
    "opt(X, W, h).shape"
   ]
  },
  {
   "cell_type": "code",
   "execution_count": null,
   "metadata": {},
   "outputs": [],
   "source": []
  }
 ],
 "metadata": {
  "kernelspec": {
   "display_name": "Python 3",
   "language": "python",
   "name": "python3"
  },
  "language_info": {
   "codemirror_mode": {
    "name": "ipython",
    "version": 3
   },
   "file_extension": ".py",
   "mimetype": "text/x-python",
   "name": "python",
   "nbconvert_exporter": "python",
   "pygments_lexer": "ipython3",
   "version": "3.7.7"
  }
 },
 "nbformat": 4,
 "nbformat_minor": 4
}
