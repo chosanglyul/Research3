{
 "cells": [
  {
   "cell_type": "code",
   "execution_count": 1,
   "id": "mexican-bachelor",
   "metadata": {
    "colab": {
     "base_uri": "https://localhost:8080/"
    },
    "executionInfo": {
     "elapsed": 13422,
     "status": "ok",
     "timestamp": 1623823006050,
     "user": {
      "displayName": "3813조상렬",
      "photoUrl": "",
      "userId": "02829114149048073221"
     },
     "user_tz": -540
    },
    "id": "IcdURYkAERzF",
    "outputId": "fd4ccdce-0dff-4890-9d5d-33d78b5aa9fb"
   },
   "outputs": [
    {
     "name": "stdout",
     "output_type": "stream",
     "text": [
      "Mounted at /content/drive\n"
     ]
    }
   ],
   "source": [
    "from google.colab import drive\n",
    "drive.mount('/content/drive')"
   ]
  },
  {
   "cell_type": "code",
   "execution_count": 2,
   "id": "imposed-courage",
   "metadata": {
    "colab": {
     "base_uri": "https://localhost:8080/"
    },
    "executionInfo": {
     "elapsed": 192,
     "status": "ok",
     "timestamp": 1623823010511,
     "user": {
      "displayName": "3813조상렬",
      "photoUrl": "",
      "userId": "02829114149048073221"
     },
     "user_tz": -540
    },
    "id": "ra2bIKDzEctx",
    "outputId": "ab98d4b7-d680-43ee-d09b-0042fdcd3ebe"
   },
   "outputs": [
    {
     "name": "stdout",
     "output_type": "stream",
     "text": [
      "/content/drive/MyDrive/Research3/train\n"
     ]
    }
   ],
   "source": [
    "%cd drive/MyDrive/Research3/train"
   ]
  },
  {
   "cell_type": "code",
   "execution_count": 2,
   "id": "overhead-uruguay",
   "metadata": {
    "executionInfo": {
     "elapsed": 3123,
     "status": "ok",
     "timestamp": 1623823022890,
     "user": {
      "displayName": "3813조상렬",
      "photoUrl": "",
      "userId": "02829114149048073221"
     },
     "user_tz": -540
    },
    "id": "unnecessary-moses"
   },
   "outputs": [],
   "source": [
    "import torch\n",
    "from torch import nn\n",
    "from torch.nn.parameter import Parameter"
   ]
  },
  {
   "cell_type": "code",
   "execution_count": 3,
   "id": "light-landscape",
   "metadata": {
    "executionInfo": {
     "elapsed": 206,
     "status": "ok",
     "timestamp": 1623824142484,
     "user": {
      "displayName": "3813조상렬",
      "photoUrl": "",
      "userId": "02829114149048073221"
     },
     "user_tz": -540
    },
    "id": "occupational-poverty"
   },
   "outputs": [],
   "source": [
    "import numpy as np\n",
    "import pandas as pd\n",
    "import random\n",
    "from torch import multiprocessing"
   ]
  },
  {
   "cell_type": "code",
   "execution_count": 7,
   "id": "brown-generic",
   "metadata": {
    "executionInfo": {
     "elapsed": 2,
     "status": "ok",
     "timestamp": 1623824143454,
     "user": {
      "displayName": "3813조상렬",
      "photoUrl": "",
      "userId": "02829114149048073221"
     },
     "user_tz": -540
    },
    "id": "inside-journal"
   },
   "outputs": [],
   "source": [
    "def make_lag(n_X, n_y, y):\n",
    "    n = y.shape[0]+1-n_X-n_y\n",
    "    if n <= 0: raise ValueError\n",
    "    X = torch.empty((n, n_X))\n",
    "    Y = torch.empty((n, n_y))\n",
    "    for i in range(n_X):\n",
    "        X[:, i] = y[i:n+i]\n",
    "    for i in range(n_y):\n",
    "        Y[:, i] = y[n_X+i:n+n_X+i]\n",
    "    return X, Y"
   ]
  },
  {
   "cell_type": "code",
   "execution_count": 8,
   "id": "parental-dividend",
   "metadata": {
    "colab": {
     "base_uri": "https://localhost:8080/"
    },
    "executionInfo": {
     "elapsed": 2,
     "status": "ok",
     "timestamp": 1623824143755,
     "user": {
      "displayName": "3813조상렬",
      "photoUrl": "",
      "userId": "02829114149048073221"
     },
     "user_tz": -540
    },
    "id": "realistic-blogger",
    "outputId": "53e43b42-de1b-4fd8-88a5-b5a8b2e028d1"
   },
   "outputs": [
    {
     "data": {
      "text/plain": [
       "(3252,)"
      ]
     },
     "execution_count": 8,
     "metadata": {},
     "output_type": "execute_result"
    }
   ],
   "source": [
    "df = pd.read_csv('../rawdata/sunspots.csv', index_col='Unnamed: 0')\n",
    "df.columns = ['Date', 'Sunspot']\n",
    "y = df['Sunspot'].to_numpy()\n",
    "y.shape"
   ]
  },
  {
   "cell_type": "code",
   "execution_count": 9,
   "id": "lesser-static",
   "metadata": {
    "colab": {
     "base_uri": "https://localhost:8080/"
    },
    "executionInfo": {
     "elapsed": 3,
     "status": "ok",
     "timestamp": 1623824144173,
     "user": {
      "displayName": "3813조상렬",
      "photoUrl": "",
      "userId": "02829114149048073221"
     },
     "user_tz": -540
    },
    "id": "fifty-calculator",
    "outputId": "82c2c104-55f1-4f9e-8711-ac8ae1a13772"
   },
   "outputs": [
    {
     "data": {
      "text/plain": [
       "(torch.Size([132, 3111, 1]), torch.Size([3111, 10]))"
      ]
     },
     "execution_count": 9,
     "metadata": {},
     "output_type": "execute_result"
    }
   ],
   "source": [
    "X, Y = make_lag(11*12, 10, torch.FloatTensor(y))\n",
    "X = X.unsqueeze(-1).transpose(0, 1)\n",
    "X.shape, Y.shape"
   ]
  },
  {
   "cell_type": "code",
   "execution_count": 19,
   "id": "exempt-charleston",
   "metadata": {
    "executionInfo": {
     "elapsed": 230,
     "status": "ok",
     "timestamp": 1623824471657,
     "user": {
      "displayName": "3813조상렬",
      "photoUrl": "",
      "userId": "02829114149048073221"
     },
     "user_tz": -540
    },
    "id": "different-staff"
   },
   "outputs": [],
   "source": [
    "class Layer(torch.nn.Module):\n",
    "    def __init__(self, n_seq, n_input, n_hidden):\n",
    "        super().__init__()\n",
    "        self.n_seq = n_seq\n",
    "        self.n_input = n_input\n",
    "        self.n_hidden = n_hidden\n",
    "        self.rnncell = torch.nn.GRUCell(n_input, n_hidden)\n",
    "        self.parent = nn.parameter.Parameter(-torch.ones(n_seq, dtype=torch.long), requires_grad=False)\n",
    "        #for i in range(n_seq-1): self.parent[i] = i+1\n",
    "        #self.parent = [-1 if (i == n_seq-1) else n_seq-1 for i in range(n_seq)]\n",
    "        #self.parent = [-1 if (i == n_seq-1) else random.randrange(i+1, n_seq) for i in range(n_seq)]\n",
    "        #self.parent = [-1 if (i == n_seq-1) else i+1 for i in range(n_seq)]\n",
    "        self.childs = self._construct_childs()\n",
    "        self.score = torch.zeros((n_seq, n_seq))\n",
    "        \n",
    "    def forward(self, X):\n",
    "        if (X.dim() != 3) or (X.size(0) != self.n_seq) or (X.size(2) != self.n_input): raise ValueError()\n",
    "        hx = torch.empty((self.n_seq, X.size(1), self.n_hidden), dtype=X.dtype, device=X.device)\n",
    "        nchilds = [len(child) for child in self.childs]\n",
    "        \n",
    "        q = []\n",
    "        for idx, val in enumerate(nchilds):\n",
    "            if val == 0: q.append(idx)\n",
    "        while len(q) > 0:\n",
    "            agg = torch.cat([self._aggregate(hx[self.childs[i]]) for i in q], 0)\n",
    "            print(X[q].shape)\n",
    "            hx[q] = self.rnncell(X[q].reshape(-1, self.n_input), agg).reshape(len(q), -1, self.n_hidden)\n",
    "            p = []\n",
    "            for idx in q:\n",
    "                nchilds[self.parent[idx]] -= 1\n",
    "                if nchilds[self.parent[idx]] == 0:\n",
    "                    p.append(self.parent[idx])\n",
    "            q = p\n",
    "            \n",
    "        for i in range(self.n_seq): hx[i] = self.rnncell(X[i], self._aggregate(hx[self.childs[i]]))\n",
    "        self.score = self.score.to(X)\n",
    "        with torch.no_grad(): self.score += self._dot_product(hx)\n",
    "        return hx, hx[-1]\n",
    "\n",
    "    def add_edge(self):\n",
    "        old, new = self._get_index()\n",
    "        self.parent[new] = old\n",
    "        self.childs = self._construct_childs()\n",
    "        self.score = torch.zeros((self.n_seq, self.n_seq))\n",
    "        \n",
    "    def _construct_childs(self):\n",
    "        childs = [[] for i in range(self.n_seq)]\n",
    "        for idx in range(self.n_seq):\n",
    "            if self.parent[idx] >= 0:\n",
    "                childs[self.parent[idx]].append(idx)\n",
    "        return childs\n",
    "\n",
    "    def _connected_end(self):\n",
    "        connected = (self.parent != -1)\n",
    "        connected[-1] = True\n",
    "        return connected\n",
    "    \n",
    "    def _aggregate(self, h):\n",
    "        if h.size(0) == 0: return torch.zeros(h.shape[1:], dtype=h.dtype, device=h.device)\n",
    "        else: return h.mean(axis=0)\n",
    "    \n",
    "    def _dot_product(self, hx):\n",
    "        hx_norm = torch.div(hx, LA.norm(hx, dim=2).reshape(hx.shape[0], hx.shape[1], -1))\n",
    "        return torch.tensordot(hx_norm, hx_norm, dims=([1, 2], [1, 2]))\n",
    "    \n",
    "    def _get_index(self):\n",
    "        old = self._connected_end()\n",
    "        mask = torch.ones_like(self.score, dtype=torch.bool).tril(diagonal=-1)\n",
    "        mask[old != True, :] = False\n",
    "        mask[:, old] = False\n",
    "        maskedscore = self.score[mask] / torch.sqrt(self.score[0][0])  \n",
    "        cumask = torch.cumsum(mask, dim=1)\n",
    "        cucumask = torch.cumsum(cumask[:, -1], dim=0)\n",
    "\n",
    "        maskedscore = torch.nn.functional.softmax(maskedscore, dim=0)\n",
    "        #plt.plot(maskedscore.cpu())\n",
    "        #plt.show()\n",
    "        maskedscore = torch.cumsum(maskedscore, dim=0)\n",
    "        selectcursor = torch.rand(1).to(maskedscore)\n",
    "        selectedidx = (maskedscore < selectcursor).sum()\n",
    "        #selectedidx = maskedscore.argmax()\n",
    "\n",
    "        row = (cucumask <= selectedidx).sum()\n",
    "        if row > 0: selectedidx -= cucumask[row-1]\n",
    "        col = (cumask[row] <= selectedidx).sum()\n",
    "        print(selectedidx, row, col)\n",
    "        return row, col"
   ]
  },
  {
   "cell_type": "code",
   "execution_count": 20,
   "id": "indoor-registration",
   "metadata": {
    "executionInfo": {
     "elapsed": 2,
     "status": "ok",
     "timestamp": 1623824471882,
     "user": {
      "displayName": "3813조상렬",
      "photoUrl": "",
      "userId": "02829114149048073221"
     },
     "user_tz": -540
    },
    "id": "passing-compiler"
   },
   "outputs": [],
   "source": [
    "l = Layer(11*12, 1, 20)"
   ]
  },
  {
   "cell_type": "code",
   "execution_count": 21,
   "id": "looking-bosnia",
   "metadata": {
    "colab": {
     "base_uri": "https://localhost:8080/"
    },
    "executionInfo": {
     "elapsed": 1830,
     "status": "ok",
     "timestamp": 1623824473978,
     "user": {
      "displayName": "3813조상렬",
      "photoUrl": "",
      "userId": "02829114149048073221"
     },
     "user_tz": -540
    },
    "id": "U9tR43XtbvvM",
    "outputId": "176eb02d-4ca9-4313-a7af-58363caf2c8e"
   },
   "outputs": [
    {
     "name": "stdout",
     "output_type": "stream",
     "text": [
      "torch.Size([132, 3111, 1])\n"
     ]
    },
    {
     "ename": "NameError",
     "evalue": "name 'LA' is not defined",
     "output_type": "error",
     "traceback": [
      "\u001b[0;31m---------------------------------------------------------------------------\u001b[0m",
      "\u001b[0;31mNameError\u001b[0m                                 Traceback (most recent call last)",
      "\u001b[0;32m<ipython-input-21-d65476e696ad>\u001b[0m in \u001b[0;36m<module>\u001b[0;34m\u001b[0m\n\u001b[1;32m      1\u001b[0m \u001b[0;32mfor\u001b[0m \u001b[0mi\u001b[0m \u001b[0;32min\u001b[0m \u001b[0mrange\u001b[0m\u001b[0;34m(\u001b[0m\u001b[0;36m10\u001b[0m\u001b[0;34m)\u001b[0m\u001b[0;34m:\u001b[0m\u001b[0;34m\u001b[0m\u001b[0;34m\u001b[0m\u001b[0m\n\u001b[0;32m----> 2\u001b[0;31m     \u001b[0ml\u001b[0m\u001b[0;34m(\u001b[0m\u001b[0mX\u001b[0m\u001b[0;34m)\u001b[0m\u001b[0;34m\u001b[0m\u001b[0;34m\u001b[0m\u001b[0m\n\u001b[0m\u001b[1;32m      3\u001b[0m     \u001b[0ml\u001b[0m\u001b[0;34m.\u001b[0m\u001b[0madd_edge\u001b[0m\u001b[0;34m(\u001b[0m\u001b[0;34m)\u001b[0m\u001b[0;34m\u001b[0m\u001b[0;34m\u001b[0m\u001b[0m\n",
      "\u001b[0;32m~/.local/lib/python3.8/site-packages/torch/nn/modules/module.py\u001b[0m in \u001b[0;36m_call_impl\u001b[0;34m(self, *input, **kwargs)\u001b[0m\n\u001b[1;32m    725\u001b[0m             \u001b[0mresult\u001b[0m \u001b[0;34m=\u001b[0m \u001b[0mself\u001b[0m\u001b[0;34m.\u001b[0m\u001b[0m_slow_forward\u001b[0m\u001b[0;34m(\u001b[0m\u001b[0;34m*\u001b[0m\u001b[0minput\u001b[0m\u001b[0;34m,\u001b[0m \u001b[0;34m**\u001b[0m\u001b[0mkwargs\u001b[0m\u001b[0;34m)\u001b[0m\u001b[0;34m\u001b[0m\u001b[0;34m\u001b[0m\u001b[0m\n\u001b[1;32m    726\u001b[0m         \u001b[0;32melse\u001b[0m\u001b[0;34m:\u001b[0m\u001b[0;34m\u001b[0m\u001b[0;34m\u001b[0m\u001b[0m\n\u001b[0;32m--> 727\u001b[0;31m             \u001b[0mresult\u001b[0m \u001b[0;34m=\u001b[0m \u001b[0mself\u001b[0m\u001b[0;34m.\u001b[0m\u001b[0mforward\u001b[0m\u001b[0;34m(\u001b[0m\u001b[0;34m*\u001b[0m\u001b[0minput\u001b[0m\u001b[0;34m,\u001b[0m \u001b[0;34m**\u001b[0m\u001b[0mkwargs\u001b[0m\u001b[0;34m)\u001b[0m\u001b[0;34m\u001b[0m\u001b[0;34m\u001b[0m\u001b[0m\n\u001b[0m\u001b[1;32m    728\u001b[0m         for hook in itertools.chain(\n\u001b[1;32m    729\u001b[0m                 \u001b[0m_global_forward_hooks\u001b[0m\u001b[0;34m.\u001b[0m\u001b[0mvalues\u001b[0m\u001b[0;34m(\u001b[0m\u001b[0;34m)\u001b[0m\u001b[0;34m,\u001b[0m\u001b[0;34m\u001b[0m\u001b[0;34m\u001b[0m\u001b[0m\n",
      "\u001b[0;32m<ipython-input-19-6c985c5bd1d3>\u001b[0m in \u001b[0;36mforward\u001b[0;34m(self, X)\u001b[0m\n\u001b[1;32m     35\u001b[0m         \u001b[0;32mfor\u001b[0m \u001b[0mi\u001b[0m \u001b[0;32min\u001b[0m \u001b[0mrange\u001b[0m\u001b[0;34m(\u001b[0m\u001b[0mself\u001b[0m\u001b[0;34m.\u001b[0m\u001b[0mn_seq\u001b[0m\u001b[0;34m)\u001b[0m\u001b[0;34m:\u001b[0m \u001b[0mhx\u001b[0m\u001b[0;34m[\u001b[0m\u001b[0mi\u001b[0m\u001b[0;34m]\u001b[0m \u001b[0;34m=\u001b[0m \u001b[0mself\u001b[0m\u001b[0;34m.\u001b[0m\u001b[0mrnncell\u001b[0m\u001b[0;34m(\u001b[0m\u001b[0mX\u001b[0m\u001b[0;34m[\u001b[0m\u001b[0mi\u001b[0m\u001b[0;34m]\u001b[0m\u001b[0;34m,\u001b[0m \u001b[0mself\u001b[0m\u001b[0;34m.\u001b[0m\u001b[0m_aggregate\u001b[0m\u001b[0;34m(\u001b[0m\u001b[0mhx\u001b[0m\u001b[0;34m[\u001b[0m\u001b[0mself\u001b[0m\u001b[0;34m.\u001b[0m\u001b[0mchilds\u001b[0m\u001b[0;34m[\u001b[0m\u001b[0mi\u001b[0m\u001b[0;34m]\u001b[0m\u001b[0;34m]\u001b[0m\u001b[0;34m)\u001b[0m\u001b[0;34m)\u001b[0m\u001b[0;34m\u001b[0m\u001b[0;34m\u001b[0m\u001b[0m\n\u001b[1;32m     36\u001b[0m         \u001b[0mself\u001b[0m\u001b[0;34m.\u001b[0m\u001b[0mscore\u001b[0m \u001b[0;34m=\u001b[0m \u001b[0mself\u001b[0m\u001b[0;34m.\u001b[0m\u001b[0mscore\u001b[0m\u001b[0;34m.\u001b[0m\u001b[0mto\u001b[0m\u001b[0;34m(\u001b[0m\u001b[0mX\u001b[0m\u001b[0;34m)\u001b[0m\u001b[0;34m\u001b[0m\u001b[0;34m\u001b[0m\u001b[0m\n\u001b[0;32m---> 37\u001b[0;31m         \u001b[0;32mwith\u001b[0m \u001b[0mtorch\u001b[0m\u001b[0;34m.\u001b[0m\u001b[0mno_grad\u001b[0m\u001b[0;34m(\u001b[0m\u001b[0;34m)\u001b[0m\u001b[0;34m:\u001b[0m \u001b[0mself\u001b[0m\u001b[0;34m.\u001b[0m\u001b[0mscore\u001b[0m \u001b[0;34m+=\u001b[0m \u001b[0mself\u001b[0m\u001b[0;34m.\u001b[0m\u001b[0m_dot_product\u001b[0m\u001b[0;34m(\u001b[0m\u001b[0mhx\u001b[0m\u001b[0;34m)\u001b[0m\u001b[0;34m\u001b[0m\u001b[0;34m\u001b[0m\u001b[0m\n\u001b[0m\u001b[1;32m     38\u001b[0m         \u001b[0;32mreturn\u001b[0m \u001b[0mhx\u001b[0m\u001b[0;34m,\u001b[0m \u001b[0mhx\u001b[0m\u001b[0;34m[\u001b[0m\u001b[0;34m-\u001b[0m\u001b[0;36m1\u001b[0m\u001b[0;34m]\u001b[0m\u001b[0;34m\u001b[0m\u001b[0;34m\u001b[0m\u001b[0m\n\u001b[1;32m     39\u001b[0m \u001b[0;34m\u001b[0m\u001b[0m\n",
      "\u001b[0;32m<ipython-input-19-6c985c5bd1d3>\u001b[0m in \u001b[0;36m_dot_product\u001b[0;34m(self, hx)\u001b[0m\n\u001b[1;32m     61\u001b[0m \u001b[0;34m\u001b[0m\u001b[0m\n\u001b[1;32m     62\u001b[0m     \u001b[0;32mdef\u001b[0m \u001b[0m_dot_product\u001b[0m\u001b[0;34m(\u001b[0m\u001b[0mself\u001b[0m\u001b[0;34m,\u001b[0m \u001b[0mhx\u001b[0m\u001b[0;34m)\u001b[0m\u001b[0;34m:\u001b[0m\u001b[0;34m\u001b[0m\u001b[0;34m\u001b[0m\u001b[0m\n\u001b[0;32m---> 63\u001b[0;31m         \u001b[0mhx_norm\u001b[0m \u001b[0;34m=\u001b[0m \u001b[0mtorch\u001b[0m\u001b[0;34m.\u001b[0m\u001b[0mdiv\u001b[0m\u001b[0;34m(\u001b[0m\u001b[0mhx\u001b[0m\u001b[0;34m,\u001b[0m \u001b[0mLA\u001b[0m\u001b[0;34m.\u001b[0m\u001b[0mnorm\u001b[0m\u001b[0;34m(\u001b[0m\u001b[0mhx\u001b[0m\u001b[0;34m,\u001b[0m \u001b[0mdim\u001b[0m\u001b[0;34m=\u001b[0m\u001b[0;36m2\u001b[0m\u001b[0;34m)\u001b[0m\u001b[0;34m.\u001b[0m\u001b[0mreshape\u001b[0m\u001b[0;34m(\u001b[0m\u001b[0mhx\u001b[0m\u001b[0;34m.\u001b[0m\u001b[0mshape\u001b[0m\u001b[0;34m[\u001b[0m\u001b[0;36m0\u001b[0m\u001b[0;34m]\u001b[0m\u001b[0;34m,\u001b[0m \u001b[0mhx\u001b[0m\u001b[0;34m.\u001b[0m\u001b[0mshape\u001b[0m\u001b[0;34m[\u001b[0m\u001b[0;36m1\u001b[0m\u001b[0;34m]\u001b[0m\u001b[0;34m,\u001b[0m \u001b[0;34m-\u001b[0m\u001b[0;36m1\u001b[0m\u001b[0;34m)\u001b[0m\u001b[0;34m)\u001b[0m\u001b[0;34m\u001b[0m\u001b[0;34m\u001b[0m\u001b[0m\n\u001b[0m\u001b[1;32m     64\u001b[0m         \u001b[0;32mreturn\u001b[0m \u001b[0mtorch\u001b[0m\u001b[0;34m.\u001b[0m\u001b[0mtensordot\u001b[0m\u001b[0;34m(\u001b[0m\u001b[0mhx_norm\u001b[0m\u001b[0;34m,\u001b[0m \u001b[0mhx_norm\u001b[0m\u001b[0;34m,\u001b[0m \u001b[0mdims\u001b[0m\u001b[0;34m=\u001b[0m\u001b[0;34m(\u001b[0m\u001b[0;34m[\u001b[0m\u001b[0;36m1\u001b[0m\u001b[0;34m,\u001b[0m \u001b[0;36m2\u001b[0m\u001b[0;34m]\u001b[0m\u001b[0;34m,\u001b[0m \u001b[0;34m[\u001b[0m\u001b[0;36m1\u001b[0m\u001b[0;34m,\u001b[0m \u001b[0;36m2\u001b[0m\u001b[0;34m]\u001b[0m\u001b[0;34m)\u001b[0m\u001b[0;34m)\u001b[0m\u001b[0;34m\u001b[0m\u001b[0;34m\u001b[0m\u001b[0m\n\u001b[1;32m     65\u001b[0m \u001b[0;34m\u001b[0m\u001b[0m\n",
      "\u001b[0;31mNameError\u001b[0m: name 'LA' is not defined"
     ]
    }
   ],
   "source": [
    "for i in range(10):\n",
    "    l(X)\n",
    "    l.add_edge()"
   ]
  },
  {
   "cell_type": "code",
   "execution_count": 50,
   "id": "corporate-tsunami",
   "metadata": {
    "colab": {
     "base_uri": "https://localhost:8080/"
    },
    "executionInfo": {
     "elapsed": 531,
     "status": "ok",
     "timestamp": 1623824505585,
     "user": {
      "displayName": "3813조상렬",
      "photoUrl": "",
      "userId": "02829114149048073221"
     },
     "user_tz": -540
    },
    "id": "xn_SFfLee2Sq",
    "outputId": "1bec7902-a8fc-4261-fc8f-abb387e7fd7a"
   },
   "outputs": [
    {
     "name": "stdout",
     "output_type": "stream",
     "text": [
      "tensor([[[ 2.2506e-02,  9.8297e-01, -1.1921e-07,  ...,  9.9446e-01,\n",
      "           1.1086e-05, -2.7418e-06],\n",
      "         [ 1.7213e-02,  9.8760e-01,  0.0000e+00,  ...,  9.9632e-01,\n",
      "           4.5300e-06, -1.0729e-06],\n",
      "         [ 1.1061e-02,  9.9262e-01,  0.0000e+00,  ...,  9.9812e-01,\n",
      "           1.0729e-06, -2.3842e-07],\n",
      "         ...,\n",
      "         [ 5.3887e-02,  3.7908e-01, -1.5499e-01,  ...,  2.8277e-01,\n",
      "           2.6258e-01, -1.7998e-01],\n",
      "         [ 4.2095e-02,  3.0794e-01, -1.4621e-01,  ...,  1.9455e-01,\n",
      "           2.3492e-01, -1.4482e-01],\n",
      "         [ 1.2832e-01,  6.4648e-01, -5.8011e-02,  ...,  6.7711e-01,\n",
      "           1.4647e-01, -8.7178e-02]],\n",
      "\n",
      "        [[ 1.7213e-02,  9.8760e-01,  0.0000e+00,  ...,  9.9632e-01,\n",
      "           4.5300e-06, -1.0729e-06],\n",
      "         [ 1.1061e-02,  9.9262e-01,  0.0000e+00,  ...,  9.9812e-01,\n",
      "           1.0729e-06, -2.3842e-07],\n",
      "         [ 2.5794e-02,  9.7998e-01, -2.3842e-07,  ...,  9.9317e-01,\n",
      "           1.7643e-05, -4.5300e-06],\n",
      "         ...,\n",
      "         [ 4.2095e-02,  3.0794e-01, -1.4621e-01,  ...,  1.9455e-01,\n",
      "           2.3492e-01, -1.4482e-01],\n",
      "         [ 1.2832e-01,  6.4648e-01, -5.8011e-02,  ...,  6.7711e-01,\n",
      "           1.4647e-01, -8.7178e-02],\n",
      "         [ 4.9066e-02,  3.5114e-01, -1.5248e-01,  ...,  2.4709e-01,\n",
      "           2.5318e-01, -1.6815e-01]],\n",
      "\n",
      "        [[ 1.1061e-02,  9.9262e-01,  0.0000e+00,  ...,  9.9812e-01,\n",
      "           1.0729e-06, -2.3842e-07],\n",
      "         [ 2.5794e-02,  9.7998e-01, -2.3842e-07,  ...,  9.9317e-01,\n",
      "           1.7643e-05, -4.5300e-06],\n",
      "         [ 4.4907e-03,  9.9742e-01,  0.0000e+00,  ...,  9.9951e-01,\n",
      "           0.0000e+00,  0.0000e+00],\n",
      "         ...,\n",
      "         [ 1.2832e-01,  6.4648e-01, -5.8011e-02,  ...,  6.7711e-01,\n",
      "           1.4647e-01, -8.7178e-02],\n",
      "         [ 4.9066e-02,  3.5114e-01, -1.5248e-01,  ...,  2.4709e-01,\n",
      "           2.5318e-01, -1.6815e-01],\n",
      "         [ 5.8576e-02,  4.0466e-01, -1.5604e-01,  ...,  3.1665e-01,\n",
      "           2.6922e-01, -1.8821e-01]],\n",
      "\n",
      "        ...,\n",
      "\n",
      "        [[ 0.0000e+00,  0.0000e+00,  0.0000e+00,  ...,  0.0000e+00,\n",
      "           0.0000e+00,  0.0000e+00],\n",
      "         [ 0.0000e+00,  0.0000e+00,  0.0000e+00,  ...,  0.0000e+00,\n",
      "           0.0000e+00,  0.0000e+00],\n",
      "         [ 0.0000e+00,  0.0000e+00,  0.0000e+00,  ...,  0.0000e+00,\n",
      "           0.0000e+00,  0.0000e+00],\n",
      "         ...,\n",
      "         [ 0.0000e+00,  0.0000e+00,  0.0000e+00,  ...,  0.0000e+00,\n",
      "           0.0000e+00,  0.0000e+00],\n",
      "         [ 0.0000e+00,  0.0000e+00,  0.0000e+00,  ...,  0.0000e+00,\n",
      "           0.0000e+00,  0.0000e+00],\n",
      "         [ 0.0000e+00,  0.0000e+00,  0.0000e+00,  ...,  0.0000e+00,\n",
      "           0.0000e+00,  0.0000e+00]],\n",
      "\n",
      "        [[ 0.0000e+00,  0.0000e+00,  0.0000e+00,  ...,  0.0000e+00,\n",
      "           0.0000e+00,  0.0000e+00],\n",
      "         [ 0.0000e+00,  0.0000e+00,  0.0000e+00,  ...,  0.0000e+00,\n",
      "           0.0000e+00,  0.0000e+00],\n",
      "         [ 0.0000e+00,  0.0000e+00,  0.0000e+00,  ...,  0.0000e+00,\n",
      "           0.0000e+00,  0.0000e+00],\n",
      "         ...,\n",
      "         [ 0.0000e+00,  0.0000e+00,  0.0000e+00,  ...,  0.0000e+00,\n",
      "           0.0000e+00,  0.0000e+00],\n",
      "         [ 0.0000e+00,  0.0000e+00,  0.0000e+00,  ...,  0.0000e+00,\n",
      "           0.0000e+00,  0.0000e+00],\n",
      "         [ 0.0000e+00,  0.0000e+00,  0.0000e+00,  ...,  0.0000e+00,\n",
      "           0.0000e+00,  0.0000e+00]],\n",
      "\n",
      "        [[ 4.7055e-02,  9.9985e-01, -1.7881e-07,  ...,  9.9999e-01,\n",
      "           1.3649e-05, -3.7551e-06],\n",
      "         [ 2.8841e-02,  9.9994e-01,  0.0000e+00,  ...,  1.0000e+00,\n",
      "           3.9339e-06, -1.0133e-06],\n",
      "         [ 3.8826e-02,  9.9992e-01, -1.1921e-07,  ...,  9.9999e-01,\n",
      "           8.2254e-06, -2.2054e-06],\n",
      "         ...,\n",
      "         [ 8.1373e-02,  4.6053e-01, -2.4824e-01,  ...,  3.2277e-01,\n",
      "           3.8020e-01, -2.6166e-01],\n",
      "         [ 1.2570e-01,  6.5318e-01, -2.4718e-01,  ...,  5.9099e-01,\n",
      "           4.0579e-01, -2.9126e-01],\n",
      "         [ 5.6215e-02,  2.9697e-01, -1.9944e-01,  ...,  1.4556e-01,\n",
      "           2.9072e-01, -1.2798e-01]]], grad_fn=<CopySlices>)\n"
     ]
    },
    {
     "data": {
      "text/plain": [
       "(tensor([[[ 2.2506e-02,  9.8297e-01, -1.1921e-07,  ...,  9.9446e-01,\n",
       "            1.1086e-05, -2.7418e-06],\n",
       "          [ 1.7213e-02,  9.8760e-01,  0.0000e+00,  ...,  9.9632e-01,\n",
       "            4.5300e-06, -1.0729e-06],\n",
       "          [ 1.1061e-02,  9.9262e-01,  0.0000e+00,  ...,  9.9812e-01,\n",
       "            1.0729e-06, -2.3842e-07],\n",
       "          ...,\n",
       "          [ 5.3887e-02,  3.7908e-01, -1.5499e-01,  ...,  2.8277e-01,\n",
       "            2.6258e-01, -1.7998e-01],\n",
       "          [ 4.2095e-02,  3.0794e-01, -1.4621e-01,  ...,  1.9455e-01,\n",
       "            2.3492e-01, -1.4482e-01],\n",
       "          [ 1.2832e-01,  6.4648e-01, -5.8011e-02,  ...,  6.7711e-01,\n",
       "            1.4647e-01, -8.7178e-02]],\n",
       " \n",
       "         [[ 1.7213e-02,  9.8760e-01,  0.0000e+00,  ...,  9.9632e-01,\n",
       "            4.5300e-06, -1.0729e-06],\n",
       "          [ 1.1061e-02,  9.9262e-01,  0.0000e+00,  ...,  9.9812e-01,\n",
       "            1.0729e-06, -2.3842e-07],\n",
       "          [ 2.5794e-02,  9.7998e-01, -2.3842e-07,  ...,  9.9317e-01,\n",
       "            1.7643e-05, -4.5300e-06],\n",
       "          ...,\n",
       "          [ 4.2095e-02,  3.0794e-01, -1.4621e-01,  ...,  1.9455e-01,\n",
       "            2.3492e-01, -1.4482e-01],\n",
       "          [ 1.2832e-01,  6.4648e-01, -5.8011e-02,  ...,  6.7711e-01,\n",
       "            1.4647e-01, -8.7178e-02],\n",
       "          [ 4.9066e-02,  3.5114e-01, -1.5248e-01,  ...,  2.4709e-01,\n",
       "            2.5318e-01, -1.6815e-01]],\n",
       " \n",
       "         [[ 1.1061e-02,  9.9262e-01,  0.0000e+00,  ...,  9.9812e-01,\n",
       "            1.0729e-06, -2.3842e-07],\n",
       "          [ 2.5794e-02,  9.7998e-01, -2.3842e-07,  ...,  9.9317e-01,\n",
       "            1.7643e-05, -4.5300e-06],\n",
       "          [ 4.4907e-03,  9.9742e-01,  0.0000e+00,  ...,  9.9951e-01,\n",
       "            0.0000e+00,  0.0000e+00],\n",
       "          ...,\n",
       "          [ 1.2832e-01,  6.4648e-01, -5.8011e-02,  ...,  6.7711e-01,\n",
       "            1.4647e-01, -8.7178e-02],\n",
       "          [ 4.9066e-02,  3.5114e-01, -1.5248e-01,  ...,  2.4709e-01,\n",
       "            2.5318e-01, -1.6815e-01],\n",
       "          [ 5.8576e-02,  4.0466e-01, -1.5604e-01,  ...,  3.1665e-01,\n",
       "            2.6922e-01, -1.8821e-01]],\n",
       " \n",
       "         ...,\n",
       " \n",
       "         [[ 0.0000e+00,  0.0000e+00,  0.0000e+00,  ...,  0.0000e+00,\n",
       "            0.0000e+00,  0.0000e+00],\n",
       "          [ 0.0000e+00,  0.0000e+00,  0.0000e+00,  ...,  0.0000e+00,\n",
       "            0.0000e+00,  0.0000e+00],\n",
       "          [ 0.0000e+00,  0.0000e+00,  0.0000e+00,  ...,  0.0000e+00,\n",
       "            0.0000e+00,  0.0000e+00],\n",
       "          ...,\n",
       "          [ 0.0000e+00,  0.0000e+00,  0.0000e+00,  ...,  0.0000e+00,\n",
       "            0.0000e+00,  0.0000e+00],\n",
       "          [ 0.0000e+00,  0.0000e+00,  0.0000e+00,  ...,  0.0000e+00,\n",
       "            0.0000e+00,  0.0000e+00],\n",
       "          [ 0.0000e+00,  0.0000e+00,  0.0000e+00,  ...,  0.0000e+00,\n",
       "            0.0000e+00,  0.0000e+00]],\n",
       " \n",
       "         [[ 0.0000e+00,  0.0000e+00,  0.0000e+00,  ...,  0.0000e+00,\n",
       "            0.0000e+00,  0.0000e+00],\n",
       "          [ 0.0000e+00,  0.0000e+00,  0.0000e+00,  ...,  0.0000e+00,\n",
       "            0.0000e+00,  0.0000e+00],\n",
       "          [ 0.0000e+00,  0.0000e+00,  0.0000e+00,  ...,  0.0000e+00,\n",
       "            0.0000e+00,  0.0000e+00],\n",
       "          ...,\n",
       "          [ 0.0000e+00,  0.0000e+00,  0.0000e+00,  ...,  0.0000e+00,\n",
       "            0.0000e+00,  0.0000e+00],\n",
       "          [ 0.0000e+00,  0.0000e+00,  0.0000e+00,  ...,  0.0000e+00,\n",
       "            0.0000e+00,  0.0000e+00],\n",
       "          [ 0.0000e+00,  0.0000e+00,  0.0000e+00,  ...,  0.0000e+00,\n",
       "            0.0000e+00,  0.0000e+00]],\n",
       " \n",
       "         [[ 4.7055e-02,  9.9985e-01, -1.7881e-07,  ...,  9.9999e-01,\n",
       "            1.3649e-05, -3.7551e-06],\n",
       "          [ 2.8841e-02,  9.9994e-01,  0.0000e+00,  ...,  1.0000e+00,\n",
       "            3.9339e-06, -1.0133e-06],\n",
       "          [ 3.8826e-02,  9.9992e-01, -1.1921e-07,  ...,  9.9999e-01,\n",
       "            8.2254e-06, -2.2054e-06],\n",
       "          ...,\n",
       "          [ 8.1373e-02,  4.6053e-01, -2.4824e-01,  ...,  3.2277e-01,\n",
       "            3.8020e-01, -2.6166e-01],\n",
       "          [ 1.2570e-01,  6.5318e-01, -2.4718e-01,  ...,  5.9099e-01,\n",
       "            4.0579e-01, -2.9126e-01],\n",
       "          [ 5.6215e-02,  2.9697e-01, -1.9944e-01,  ...,  1.4556e-01,\n",
       "            2.9072e-01, -1.2798e-01]]], grad_fn=<CopySlices>),\n",
       " tensor([[ 4.7055e-02,  9.9985e-01, -1.7881e-07,  ...,  9.9999e-01,\n",
       "           1.3649e-05, -3.7551e-06],\n",
       "         [ 2.8841e-02,  9.9994e-01,  0.0000e+00,  ...,  1.0000e+00,\n",
       "           3.9339e-06, -1.0133e-06],\n",
       "         [ 3.8826e-02,  9.9992e-01, -1.1921e-07,  ...,  9.9999e-01,\n",
       "           8.2254e-06, -2.2054e-06],\n",
       "         ...,\n",
       "         [ 8.1373e-02,  4.6053e-01, -2.4824e-01,  ...,  3.2277e-01,\n",
       "           3.8020e-01, -2.6166e-01],\n",
       "         [ 1.2570e-01,  6.5318e-01, -2.4718e-01,  ...,  5.9099e-01,\n",
       "           4.0579e-01, -2.9126e-01],\n",
       "         [ 5.6215e-02,  2.9697e-01, -1.9944e-01,  ...,  1.4556e-01,\n",
       "           2.9072e-01, -1.2798e-01]], grad_fn=<SelectBackward>))"
      ]
     },
     "execution_count": 50,
     "metadata": {
      "tags": []
     },
     "output_type": "execute_result"
    }
   ],
   "source": [
    "l(X)"
   ]
  },
  {
   "cell_type": "code",
   "execution_count": 48,
   "id": "aware-arctic",
   "metadata": {
    "colab": {
     "base_uri": "https://localhost:8080/"
    },
    "executionInfo": {
     "elapsed": 213,
     "status": "ok",
     "timestamp": 1623824486482,
     "user": {
      "displayName": "3813조상렬",
      "photoUrl": "",
      "userId": "02829114149048073221"
     },
     "user_tz": -540
    },
    "id": "sEyilyl_pfdg",
    "outputId": "e4cd985b-805b-40d6-b43d-ad0a6dd760ad"
   },
   "outputs": [
    {
     "data": {
      "text/plain": [
       "Parameter containing:\n",
       "tensor([131, 131, 131, 131, 131, 131, 131, 131, 131, 131,  -1,  -1,  -1,  -1,\n",
       "         -1,  -1,  -1,  -1,  -1,  -1,  -1,  -1,  -1,  -1,  -1,  -1,  -1,  -1,\n",
       "         -1,  -1,  -1,  -1,  -1,  -1,  -1,  -1,  -1,  -1,  -1,  -1,  -1,  -1,\n",
       "         -1,  -1,  -1,  -1,  -1,  -1,  -1,  -1,  -1,  -1,  -1,  -1,  -1,  -1,\n",
       "         -1,  -1,  -1,  -1,  -1,  -1,  -1,  -1,  -1,  -1,  -1,  -1,  -1,  -1,\n",
       "         -1,  -1,  -1,  -1,  -1,  -1,  -1,  -1,  -1,  -1,  -1,  -1,  -1,  -1,\n",
       "         -1,  -1,  -1,  -1,  -1,  -1,  -1,  -1,  -1,  -1,  -1,  -1,  -1,  -1,\n",
       "         -1,  -1,  -1,  -1,  -1,  -1,  -1,  -1,  -1,  -1,  -1,  -1,  -1,  -1,\n",
       "         -1,  -1,  -1,  -1,  -1,  -1,  -1,  -1,  -1,  -1,  -1,  -1,  -1,  -1,\n",
       "         -1,  -1,  -1,  -1,  -1,  -1])"
      ]
     },
     "execution_count": 48,
     "metadata": {
      "tags": []
     },
     "output_type": "execute_result"
    }
   ],
   "source": [
    "l.parent"
   ]
  },
  {
   "cell_type": "code",
   "execution_count": null,
   "id": "clear-settlement",
   "metadata": {
    "id": "challenging-description"
   },
   "outputs": [],
   "source": [
    "g = torch.nn.GRU(1, 20, batch_first=True)"
   ]
  },
  {
   "cell_type": "code",
   "execution_count": null,
   "id": "naval-syracuse",
   "metadata": {
    "id": "annoying-premiere",
    "outputId": "dff2c07f-b12b-4763-90ae-15e4101f33c3"
   },
   "outputs": [
    {
     "name": "stdout",
     "output_type": "stream",
     "text": [
      "34.6 ms ± 529 µs per loop (mean ± std. dev. of 7 runs, 10 loops each)\n"
     ]
    }
   ],
   "source": [
    "%timeit l(X)"
   ]
  },
  {
   "cell_type": "code",
   "execution_count": null,
   "id": "guilty-analysis",
   "metadata": {
    "id": "frequent-granny",
    "outputId": "15506b27-b3dd-4d64-edc4-1591007ba7bc"
   },
   "outputs": [
    {
     "name": "stdout",
     "output_type": "stream",
     "text": [
      "19.4 ms ± 324 µs per loop (mean ± std. dev. of 7 runs, 100 loops each)\n"
     ]
    }
   ],
   "source": [
    "%timeit g(X)"
   ]
  },
  {
   "cell_type": "code",
   "execution_count": null,
   "id": "chronic-marina",
   "metadata": {
    "id": "_kVLZdLnlmoE"
   },
   "outputs": [],
   "source": []
  }
 ],
 "metadata": {
  "colab": {
   "collapsed_sections": [],
   "name": "Layer Implementation.ipynb",
   "provenance": []
  },
  "kernelspec": {
   "display_name": "Python 3",
   "language": "python",
   "name": "python3"
  },
  "language_info": {
   "codemirror_mode": {
    "name": "ipython",
    "version": 3
   },
   "file_extension": ".py",
   "mimetype": "text/x-python",
   "name": "python",
   "nbconvert_exporter": "python",
   "pygments_lexer": "ipython3",
   "version": "3.8.5"
  }
 },
 "nbformat": 4,
 "nbformat_minor": 5
}
