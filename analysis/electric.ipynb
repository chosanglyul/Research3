{
 "cells": [
  {
   "cell_type": "code",
   "execution_count": 1,
   "metadata": {
    "executionInfo": {
     "elapsed": 1402,
     "status": "ok",
     "timestamp": 1610727168681,
     "user": {
      "displayName": "2815조상렬",
      "photoUrl": "",
      "userId": "02829114149048073221"
     },
     "user_tz": -540
    },
    "id": "Go9j8EIHaS50"
   },
   "outputs": [],
   "source": [
    "import os\n",
    "import numpy as np\n",
    "import pandas as pd\n",
    "import matplotlib.pyplot as plt"
   ]
  },
  {
   "cell_type": "code",
   "execution_count": 2,
   "metadata": {
    "colab": {
     "base_uri": "https://localhost:8080/"
    },
    "executionInfo": {
     "elapsed": 4427,
     "status": "ok",
     "timestamp": 1610727171712,
     "user": {
      "displayName": "2815조상렬",
      "photoUrl": "",
      "userId": "02829114149048073221"
     },
     "user_tz": -540
    },
    "id": "GRPXe4HBpP29",
    "outputId": "a8d5f1be-d929-4769-e5a3-bd37fafa3851"
   },
   "outputs": [
    {
     "name": "stdout",
     "output_type": "stream",
     "text": [
      "../rawdata/electric\\2018_1.csv\n",
      "../rawdata/electric\\2018_2.csv\n",
      "../rawdata/electric\\2018_3.csv\n",
      "../rawdata/electric\\2018_4.csv\n",
      "../rawdata/electric\\2019_1.csv\n",
      "../rawdata/electric\\2019_2.csv\n",
      "../rawdata/electric\\2019_3.csv\n",
      "../rawdata/electric\\2019_4.csv\n",
      "../rawdata/electric\\2020_1.csv\n",
      "../rawdata/electric\\2020_2.csv\n",
      "../rawdata/electric\\2020_3.csv\n",
      "../rawdata/electric\\2020_4.csv\n"
     ]
    },
    {
     "data": {
      "text/plain": [
       "Date\n",
       "2018-01-01 00:00:00    59734.950000\n",
       "2018-01-01 01:00:00    57278.675000\n",
       "2018-01-01 02:00:00    56117.208333\n",
       "2018-01-01 03:00:00    55512.900000\n",
       "2018-01-01 04:00:00    55483.883333\n",
       "                           ...     \n",
       "2020-12-31 19:00:00    69099.441667\n",
       "2020-12-31 20:00:00    67472.400000\n",
       "2020-12-31 21:00:00    65303.733333\n",
       "2020-12-31 22:00:00    64924.933333\n",
       "2020-12-31 23:00:00    67458.400000\n",
       "Freq: H, Name: Demand, Length: 26304, dtype: float64"
      ]
     },
     "execution_count": 2,
     "metadata": {},
     "output_type": "execute_result"
    }
   ],
   "source": [
    "dirname = '../rawdata/electric'\n",
    "files = os.listdir(dirname)\n",
    "files.sort()\n",
    "dfarr = []\n",
    "for filename in files:\n",
    "    filepath = os.path.join(dirname, filename)\n",
    "    print(filepath)\n",
    "    df = pd.read_csv(filepath, encoding='cp949')\n",
    "    df.columns = ['Date', 'Supply', 'Demand', 'Max', 'Spare', 'Spare%', 'RealSpare', 'RealSpare%']\n",
    "    df['Date'] = pd.to_datetime(df['Date'], format='%Y%m%d%H%M%S')\n",
    "    df = df.set_index('Date')['Demand'].resample('1H').mean()\n",
    "    dfarr.append(df)\n",
    "df = pd.concat(dfarr)\n",
    "df"
   ]
  },
  {
   "cell_type": "code",
   "execution_count": 3,
   "metadata": {},
   "outputs": [
    {
     "data": {
      "text/plain": [
       "DatetimeIndex(['2018-05-08 22:00:00', '2018-05-08 23:00:00'], dtype='datetime64[ns]', name='Date', freq='H')"
      ]
     },
     "execution_count": 3,
     "metadata": {},
     "output_type": "execute_result"
    }
   ],
   "source": [
    "df.loc[pd.isna(df)].index"
   ]
  },
  {
   "cell_type": "code",
   "execution_count": 4,
   "metadata": {},
   "outputs": [],
   "source": [
    "df.dropna(inplace=True)"
   ]
  },
  {
   "cell_type": "code",
   "execution_count": 6,
   "metadata": {},
   "outputs": [],
   "source": [
    "df = df / 5000"
   ]
  },
  {
   "cell_type": "code",
   "execution_count": 7,
   "metadata": {
    "colab": {
     "base_uri": "https://localhost:8080/",
     "height": 282
    },
    "executionInfo": {
     "elapsed": 5147,
     "status": "ok",
     "timestamp": 1610727172442,
     "user": {
      "displayName": "2815조상렬",
      "photoUrl": "",
      "userId": "02829114149048073221"
     },
     "user_tz": -540
    },
    "id": "yXa13ChXuS3K",
    "outputId": "de622a52-9648-47c8-9fce-212fe1763ba0"
   },
   "outputs": [
    {
     "data": {
      "text/plain": [
       "[<matplotlib.lines.Line2D at 0x246fbb92088>]"
      ]
     },
     "execution_count": 7,
     "metadata": {},
     "output_type": "execute_result"
    },
    {
     "data": {
      "image/png": "[encoded data removed]",
      "text/plain": [
       "<Figure size 432x288 with 1 Axes>"
      ]
     },
     "metadata": {
      "needs_background": "light"
     },
     "output_type": "display_data"
    }
   ],
   "source": [
    "plt.plot(df)"
   ]
  },
  {
   "cell_type": "code",
   "execution_count": 8,
   "metadata": {},
   "outputs": [
    {
     "data": {
      "text/plain": [
       "False"
      ]
     },
     "execution_count": 8,
     "metadata": {},
     "output_type": "execute_result"
    }
   ],
   "source": [
    "df.isnull().any()"
   ]
  },
  {
   "cell_type": "code",
   "execution_count": 9,
   "metadata": {
    "executionInfo": {
     "elapsed": 5144,
     "status": "ok",
     "timestamp": 1610727172443,
     "user": {
      "displayName": "2815조상렬",
      "photoUrl": "",
      "userId": "02829114149048073221"
     },
     "user_tz": -540
    },
    "id": "P-IVqfhx3WIX"
   },
   "outputs": [],
   "source": [
    "df.to_csv('../rawdata/electric.csv')"
   ]
  },
  {
   "cell_type": "code",
   "execution_count": null,
   "metadata": {},
   "outputs": [],
   "source": []
  }
 ],
 "metadata": {
  "colab": {
   "collapsed_sections": [],
   "name": "electric.ipynb",
   "provenance": []
  },
  "kernelspec": {
   "display_name": "Python 3",
   "language": "python",
   "name": "python3"
  },
  "language_info": {
   "codemirror_mode": {
    "name": "ipython",
    "version": 3
   },
   "file_extension": ".py",
   "mimetype": "text/x-python",
   "name": "python",
   "nbconvert_exporter": "python",
   "pygments_lexer": "ipython3",
   "version": "3.7.7"
  }
 },
 "nbformat": 4,
 "nbformat_minor": 4
}
